{
  "nbformat": 4,
  "nbformat_minor": 0,
  "metadata": {
    "colab": {
      "provenance": [],
      "collapsed_sections": [
        "mDgbUHAGgjLW",
        "RoGjAbkUYoAp",
        "GwzvFGzlYuh3",
        "qYpmQ266Yuh3",
        "_ouA3fa0phqN",
        "Seke61FWphqN",
        "UV0SzAkaZNRQ",
        "YPEH6qLeZNRQ",
        "22aHeOlLveiV",
        "gIfDvo9L0UH2"
      ],
      "cell_execution_strategy": "setup",
      "include_colab_link": true
    },
    "kernelspec": {
      "name": "python3",
      "display_name": "Python 3"
    },
    "language_info": {
      "name": "python"
    }
  },
  "cells": [
    {
      "cell_type": "markdown",
      "metadata": {
        "id": "view-in-github",
        "colab_type": "text"
      },
      "source": [
        "<a href=\"https://colab.research.google.com/github/Amit62039/Exploratory-Data-Analysis-of-Hotel-Booking/blob/main/Copy_of_Sample_EDA_Submission_Template.ipynb\" target=\"_parent\"><img src=\"https://colab.research.google.com/assets/colab-badge.svg\" alt=\"Open In Colab\"/></a>"
      ]
    },
    {
      "cell_type": "markdown",
      "source": [
        "# **Project Name**    -\n",
        "Exploratory Data Analysis of Hotel Booking\n"
      ],
      "metadata": {
        "id": "vncDsAP0Gaoa"
      }
    },
    {
      "cell_type": "markdown",
      "source": [
        "##### **Project Type**    - EDA\n",
        "##### **Contribution**    - Individual\n"
      ],
      "metadata": {
        "id": "beRrZCGUAJYm"
      }
    },
    {
      "cell_type": "markdown",
      "source": [
        "# **Project Summary -**"
      ],
      "metadata": {
        "id": "FJNUwmbgGyua"
      }
    },
    {
      "cell_type": "markdown",
      "source": [
        "**Objectives**\n",
        "The primary objectives of this project are:\n",
        "\n",
        "Identify Optimal Booking Times: Determine the best times of year to book a hotel room to get the best rates.\n",
        "\n",
        "Analyze Stay Length Impact: Investigate the optimal length of stay to achieve the best daily rate.\n",
        "\n",
        "Predict Special Requests: Predict the likelihood of a hotel receiving a disproportionately high number of special requests.\n",
        "\n",
        "**Dataset Description**\n",
        "The dataset contains booking information for a city hotel and a resort hotel, including:\n",
        "\n",
        "Booking details: lead time, booking status, arrival dates.\n",
        "Guest details: number of adults, children, babies.\n",
        "Stay details: number of weekend nights, week nights.\n",
        "Financial details: average daily rate (ADR).\n",
        "Other details: meal type, market segment, distribution channel, special requests, and more.\n",
        "\n",
        "**Methodology**\n",
        "\n",
        "Data Preprocessing:\n",
        "\n",
        "Loaded the dataset and handled missing values.\n",
        "\n",
        "Converted relevant columns to appropriate data types.\n",
        "\n",
        "Created new features such as total_stays (sum of weekend and week nights).\n",
        "\n",
        "**Exploratory Data Analysis (EDA)**:\n",
        "\n",
        "Distribution of Lead Time:\n",
        "\n",
        "Analyzed how far in advance bookings are made.\n",
        "\n",
        "Monthly ADR Trends: Investigated the variation of ADR across different months.\n",
        "\n",
        "Booking Status Analysis: Examined the booking cancellation rates across various factors.\n",
        "\n",
        "Special Requests Distribution: Studied the frequency and patterns of special requests.\n",
        "\n",
        "**Visualizations**:\n",
        "\n",
        "Correlation Heatmap: Visualized relationships between various numerical features.\n",
        "\n",
        "Pair Plots: Explored pairwise relationships between key variables.\n",
        "\n",
        "Bar Plots and Line Plots: Illustrated trends and distributions of important metrics.\n",
        "\n",
        "**Key Analysis and Insights**:\n",
        "\n",
        "Determined the optimal booking lead time to achieve lower ADR.\n",
        "\n",
        "Identified months with the highest and lowest average daily rates.\n",
        "\n",
        "Assessed the impact of stay length on daily rates.\n",
        "\n",
        "Predicted factors contributing to a high number of special requests.\n",
        "\n",
        "**Key Findings**\n",
        "\n",
        "Optimal Booking Times:\n",
        "Bookings made well in advance tend to have lower ADR.\n",
        "Specific months show a clear trend in ADR variations, with certain off-peak months offering better rates.\n",
        "\n",
        "Impact of Stay Length:\n",
        "The analysis revealed that longer stays generally result in a lower average daily rate, but the effect diminishes after a certain number of nights.\n",
        "\n",
        "Special Requests Prediction:\n",
        "Identified key features that contribute to a higher number of special requests, such as longer stays and bookings made via certain market segments.\n",
        "\n",
        "\n",
        "**Future Work**\n",
        "Advanced Predictive Models: Develop machine learning models to predict cancellations and special requests more accurately.\n",
        "Customer Segmentation: Perform clustering analysis to identify distinct customer segments for targeted marketing.\n",
        "Operational Insights: Explore the impact of booking changes and waiting lists on hotel operations."
      ],
      "metadata": {
        "id": "F6v_1wHtG2nS"
      }
    },
    {
      "cell_type": "markdown",
      "source": [
        "# **GitHub Link -**"
      ],
      "metadata": {
        "id": "w6K7xa23Elo4"
      }
    },
    {
      "cell_type": "markdown",
      "source": [
        "Provide your GitHub Link here."
      ],
      "metadata": {
        "id": "h1o69JH3Eqqn"
      }
    },
    {
      "cell_type": "markdown",
      "source": [
        "# **Problem Statement**\n"
      ],
      "metadata": {
        "id": "yQaldy8SH6Dl"
      }
    },
    {
      "cell_type": "markdown",
      "source": [
        "Problem Statement\n",
        "\n",
        "The hotel booking industry is highly competitive, with numerous factors influencing guest preferences and booking behaviors. Understanding these factors is crucial for hotels to optimize their operations, improve guest satisfaction, and maximize revenue. This dataset contains booking information for a city hotel and a resort hotel, providing an opportunity to analyze booking patterns, pricing strategies, guest demographics, and more."
      ],
      "metadata": {
        "id": "DpeJGUA3kjGy"
      }
    },
    {
      "cell_type": "markdown",
      "source": [
        "#### **Define Your Business Objective?**"
      ],
      "metadata": {
        "id": "PH-0ReGfmX4f"
      }
    },
    {
      "cell_type": "markdown",
      "source": [
        "The objective of this analysis is to explore and identify key factors that influence hotel bookings, cancellations, and special requests. The insights derived from this analysis can help hotel managers and stakeholders make informed decisions to enhance their operational efficiency and customer satisfaction."
      ],
      "metadata": {
        "id": "PhDvGCAqmjP1"
      }
    },
    {
      "cell_type": "markdown",
      "source": [
        "# **General Guidelines** : -  "
      ],
      "metadata": {
        "id": "mDgbUHAGgjLW"
      }
    },
    {
      "cell_type": "markdown",
      "source": [
        "1.   Well-structured, formatted, and commented code is required.\n",
        "2.   Exception Handling, Production Grade Code & Deployment Ready Code will be a plus. Those students will be awarded some additional credits.\n",
        "     \n",
        "     The additional credits will have advantages over other students during Star Student selection.\n",
        "       \n",
        "             [ Note: - Deployment Ready Code is defined as, the whole .ipynb notebook should be executable in one go\n",
        "                       without a single error logged. ]\n",
        "\n",
        "3.   Each and every logic should have proper comments.\n",
        "4. You may add as many number of charts you want. Make Sure for each and every chart the following format should be answered.\n",
        "        \n",
        "\n",
        "```\n",
        "# Chart visualization code\n",
        "```\n",
        "            \n",
        "\n",
        "*   Why did you pick the specific chart?\n",
        "*   What is/are the insight(s) found from the chart?\n",
        "* Will the gained insights help creating a positive business impact?\n",
        "Are there any insights that lead to negative growth? Justify with specific reason.\n",
        "\n",
        "5. You have to create at least 20 logical & meaningful charts having important insights.\n",
        "\n",
        "\n",
        "[ Hints : - Do the Vizualization in  a structured way while following \"UBM\" Rule.\n",
        "\n",
        "U - Univariate Analysis,\n",
        "\n",
        "B - Bivariate Analysis (Numerical - Categorical, Numerical - Numerical, Categorical - Categorical)\n",
        "\n",
        "M - Multivariate Analysis\n",
        " ]\n",
        "\n",
        "\n",
        "\n"
      ],
      "metadata": {
        "id": "ZrxVaUj-hHfC"
      }
    },
    {
      "cell_type": "markdown",
      "source": [
        "# ***Let's Begin !***"
      ],
      "metadata": {
        "id": "O_i_v8NEhb9l"
      }
    },
    {
      "cell_type": "markdown",
      "source": [
        "## ***1. Know Your Data***"
      ],
      "metadata": {
        "id": "HhfV-JJviCcP"
      }
    },
    {
      "cell_type": "markdown",
      "source": [
        "### Import Libraries"
      ],
      "metadata": {
        "id": "Y3lxredqlCYt"
      }
    },
    {
      "cell_type": "code",
      "source": [
        "# Import Libraries\n",
        "import pandas as pd\n",
        "import matplotlib.pyplot as plt\n",
        "import seaborn as sns"
      ],
      "metadata": {
        "id": "M8Vqi-pPk-HR"
      },
      "execution_count": null,
      "outputs": []
    },
    {
      "cell_type": "markdown",
      "source": [
        "### Dataset Loading"
      ],
      "metadata": {
        "id": "3RnN4peoiCZX"
      }
    },
    {
      "cell_type": "code",
      "source": [
        "# Load the dataset\n",
        "file_path = '/Hotel Bookings.csv'\n",
        "hotel_data = pd.read_csv(file_path)\n",
        "\n"
      ],
      "metadata": {
        "id": "4CkvbW_SlZ_R"
      },
      "execution_count": null,
      "outputs": []
    },
    {
      "cell_type": "markdown",
      "source": [
        "### Dataset First View"
      ],
      "metadata": {
        "id": "x71ZqKXriCWQ"
      }
    },
    {
      "cell_type": "code",
      "source": [
        "# Dataset First Look\n",
        "\n",
        "# Display the first few rows of the dataset\n",
        "hotel_data.head()"
      ],
      "metadata": {
        "id": "LWNFOSvLl09H"
      },
      "execution_count": null,
      "outputs": []
    },
    {
      "cell_type": "markdown",
      "source": [
        "### Dataset Rows & Columns count"
      ],
      "metadata": {
        "id": "7hBIi_osiCS2"
      }
    },
    {
      "cell_type": "code",
      "source": [
        "# Dataset Rows & Columns count\n",
        "# Get the number of rows and columns\n",
        "num_rows = hotel_data.shape[0]\n",
        "num_columns = hotel_data.shape[1]\n",
        "\n",
        "print(f'Number of rows: {num_rows}')\n",
        "print(f'Number of columns: {num_columns}')\n"
      ],
      "metadata": {
        "id": "Kllu7SJgmLij"
      },
      "execution_count": null,
      "outputs": []
    },
    {
      "cell_type": "markdown",
      "source": [
        "### Dataset Information"
      ],
      "metadata": {
        "id": "JlHwYmJAmNHm"
      }
    },
    {
      "cell_type": "code",
      "source": [
        "# Dataset Info\n",
        "\n",
        "# general information about the dataset\n",
        "hotel_data.info()\n"
      ],
      "metadata": {
        "id": "e9hRXRi6meOf"
      },
      "execution_count": null,
      "outputs": []
    },
    {
      "cell_type": "markdown",
      "source": [
        "#### Duplicate Values"
      ],
      "metadata": {
        "id": "35m5QtbWiB9F"
      }
    },
    {
      "cell_type": "code",
      "source": [
        "# Dataset Duplicate Value Count\n",
        "\n",
        "duplicate_count = hotel_data.duplicated().sum()\n",
        "\n",
        "print(f'Number of duplicate rows: {duplicate_count}')\n"
      ],
      "metadata": {
        "id": "1sLdpKYkmox0"
      },
      "execution_count": null,
      "outputs": []
    },
    {
      "cell_type": "markdown",
      "source": [
        "#### Missing Values/Null Values"
      ],
      "metadata": {
        "id": "PoPl-ycgm1ru"
      }
    },
    {
      "cell_type": "code",
      "source": [
        "# Missing Values/Null Values Count\n",
        "\n",
        "missing_values = hotel_data.isnull().sum()\n",
        "\n",
        "print(missing_values)\n"
      ],
      "metadata": {
        "id": "GgHWkxvamxVg"
      },
      "execution_count": null,
      "outputs": []
    },
    {
      "cell_type": "code",
      "source": [
        "# Visualizing the missing values\n",
        "\n",
        "import matplotlib.pyplot as plt\n",
        "\n",
        "# Calculate the number of missing values in each column\n",
        "missing_values = hotel_data.isnull().sum()\n",
        "\n",
        "# Filter out columns with no missing values\n",
        "missing_values = missing_values[missing_values > 0]\n",
        "\n",
        "# Plotting\n",
        "plt.figure(figsize=(14, 8))\n",
        "missing_values.plot(kind='bar', color='skyblue')\n",
        "plt.title('Missing Values per Column')\n",
        "plt.xlabel('Columns')\n",
        "plt.ylabel('Number of Missing Values')\n",
        "plt.xticks(rotation=45)\n",
        "plt.show()\n",
        "\n"
      ],
      "metadata": {
        "id": "3q5wnI3om9sJ"
      },
      "execution_count": null,
      "outputs": []
    },
    {
      "cell_type": "markdown",
      "source": [
        "### What did you know about your dataset?"
      ],
      "metadata": {
        "id": "H0kj-8xxnORC"
      }
    },
    {
      "cell_type": "markdown",
      "source": [
        "Dataset provides valuable insights into booking trends, guest behavior, pricing strategies, and operational efficiency. These insights can help hotels optimize their marketing strategies, improve guest satisfaction, and enhance revenue management."
      ],
      "metadata": {
        "id": "gfoNAAC-nUe_"
      }
    },
    {
      "cell_type": "markdown",
      "source": [
        "## ***2. Understanding Your Variables***"
      ],
      "metadata": {
        "id": "nA9Y7ga8ng1Z"
      }
    },
    {
      "cell_type": "code",
      "source": [
        "# Dataset Columns\n",
        "\n",
        "dataset_columns = hotel_data.columns.tolist()\n",
        "\n",
        "print(dataset_columns)\n"
      ],
      "metadata": {
        "id": "j7xfkqrt5Ag5"
      },
      "execution_count": null,
      "outputs": []
    },
    {
      "cell_type": "code",
      "source": [
        "# Dataset Describe\n",
        "\n",
        "dataset_description = hotel_data.describe()\n",
        "\n",
        "print(dataset_description)\n"
      ],
      "metadata": {
        "id": "DnOaZdaE5Q5t"
      },
      "execution_count": null,
      "outputs": []
    },
    {
      "cell_type": "markdown",
      "source": [
        "### Variables Description"
      ],
      "metadata": {
        "id": "PBTbrJXOngz2"
      }
    },
    {
      "cell_type": "markdown",
      "source": [
        "Answer Here"
      ],
      "metadata": {
        "id": "aJV4KIxSnxay"
      }
    },
    {
      "cell_type": "markdown",
      "source": [
        "### Check Unique Values for each variable."
      ],
      "metadata": {
        "id": "u3PMJOP6ngxN"
      }
    },
    {
      "cell_type": "code",
      "source": [
        "# Check Unique Values for each variable.\n",
        "\n",
        "unique_values = hotel_data.nunique()\n",
        "\n",
        "print(unique_values)\n"
      ],
      "metadata": {
        "id": "zms12Yq5n-jE"
      },
      "execution_count": null,
      "outputs": []
    },
    {
      "cell_type": "markdown",
      "source": [
        "## 3. ***Data Wrangling***"
      ],
      "metadata": {
        "id": "dauF4eBmngu3"
      }
    },
    {
      "cell_type": "markdown",
      "source": [
        "### Data Wrangling Code"
      ],
      "metadata": {
        "id": "bKJF3rekwFvQ"
      }
    },
    {
      "cell_type": "code",
      "source": [
        "# Write your code to make your dataset analysis ready.\n",
        "import pandas as pd\n",
        "\n",
        "# Load your dataset\n",
        "file_path = 'path_to_your_file/Hotel Bookings.csv'\n",
        "hotel_data = pd.read_csv(file_path)\n",
        "\n",
        "# Inspect the dataset\n",
        "print(\"Initial Dataset Info:\")\n",
        "print(hotel_data.info())\n",
        "print(\"\\nInitial Dataset Description:\")\n",
        "print(hotel_data.describe())\n",
        "\n",
        "# Remove duplicate entries\n",
        "hotel_data = hotel_data.drop_duplicates()\n",
        "\n",
        "# Handle missing values\n",
        "# You can choose to fill missing values, drop them, or use other methods based on the context\n",
        "# Here we will fill missing values with appropriate strategies for each column\n",
        "hotel_data['children'].fillna(0, inplace=True)\n",
        "hotel_data['country'].fillna('Unknown', inplace=True)\n",
        "hotel_data['agent'].fillna(0, inplace=True)\n",
        "hotel_data['company'].fillna(0, inplace=True)\n",
        "\n",
        "# Convert data types\n",
        "# For example, convert 'reservation_status_date' to datetime\n",
        "hotel_data['reservation_status_date'] = pd.to_datetime(hotel_data['reservation_status_date'])\n",
        "\n",
        "# Feature engineering\n",
        "# Create a new column for total guests\n",
        "hotel_data['total_guests'] = hotel_data['adults'] + hotel_data['children'] + hotel_data['babies']\n",
        "\n",
        "# Create a new column to indicate if a booking has children or babies\n",
        "hotel_data['has_kids'] = hotel_data['children'] + hotel_data['babies'] > 0\n",
        "\n",
        "# Create a new column for booking month and year\n",
        "hotel_data['arrival_date_month_year'] = pd.to_datetime(\n",
        "    hotel_data['arrival_date_year'].astype(str) + '-' + hotel_data['arrival_date_month'] + '-01'\n",
        ")\n",
        "\n",
        "# Inspect the cleaned and processed dataset\n",
        "print(\"\\nCleaned Dataset Info:\")\n",
        "print(hotel_data.info())\n",
        "print(\"\\nCleaned Dataset Description:\")\n",
        "print(hotel_data.describe())\n",
        "\n",
        "# Save the cleaned dataset for future analysis\n",
        "cleaned_file_path = 'path_to_your_file/Cleaned_Hotel_Bookings.csv'\n",
        "hotel_data.to_csv(cleaned_file_path, index=False)\n",
        "\n",
        "print(\"\\nData preparation complete. Cleaned dataset saved as 'Cleaned_Hotel_Bookings.csv'.\")\n",
        "\n"
      ],
      "metadata": {
        "id": "wk-9a2fpoLcV"
      },
      "execution_count": null,
      "outputs": []
    },
    {
      "cell_type": "markdown",
      "source": [
        "### What all manipulations have you done and insights you found?"
      ],
      "metadata": {
        "id": "MSa1f5Uengrz"
      }
    },
    {
      "cell_type": "markdown",
      "source": [
        "**Data Manipulation**\n",
        "\n",
        "The dataset was loaded into a pandas DataFrame. Displayed the initial information and description of the dataset to understand its structure and contents. Removed duplicate rows from the dataset to ensure data integrity.\n",
        "\n",
        "Children: Filled missing values with 0, assuming that missing values indicate no children.\n",
        "Country: Filled missing values with 'Unknown' to retain rows while acknowledging missing information.\n",
        "\n",
        "Agent and Company: Filled missing values with 0, assuming that missing values indicate no agent or company involved.\n",
        "Data Type Conversion:\n",
        "\n",
        "Converted the 'reservation_status_date' column to datetime format to facilitate time-based analysis.\n",
        "\n",
        "Total Guests: Created a new column total_guests summing the number of adults, children, and babies in each booking.\n",
        "\n",
        "Has Kids: Created a new boolean column has_kids indicating whether the booking includes children or babies.\n",
        "\n",
        "Booking Month and Year: Created a new column arrival_date_month_year representing the arrival date's month and year for time series analysis.\n",
        "Final Inspection:\n",
        "\n",
        "Displayed the cleaned dataset's information and description to confirm the applied changes.\n",
        "\n",
        "Saved the cleaned dataset to a new CSV file for future analysis.\n",
        "\n",
        "**Insights**\n",
        "\n",
        "\n",
        "The majority of missing values were in columns related to guests (children), agents, and companies. By filling these with appropriate values, we ensured that the dataset remains comprehensive without losing significant information.\n",
        "\n",
        "The new total_guests column provides a clear metric to analyze the overall guest volume per booking. This can be useful for understanding the capacity utilization of the hotel.\n",
        "\n",
        "The has_kids column helps in segmenting bookings into those with children/babies and those without, which can be important for targeted marketing and service provision.\n",
        "\n",
        "Converting the reservation status date and creating the booking month-year column allows for detailed time series analysis. This can help in understanding seasonal trends, peak booking periods, and the impact of time on booking behaviors.\n",
        "\n",
        "Initial inspection likely showed the distribution of bookings across different months, lead times, and booking types, providing a foundation for deeper analysis.\n",
        "\n",
        "By analyzing cancellations, you can identify patterns and factors leading to higher cancellation rates, which can help in developing strategies to minimize cancellations."
      ],
      "metadata": {
        "id": "LbyXE7I1olp8"
      }
    },
    {
      "cell_type": "markdown",
      "source": [
        "## ***4. Data Vizualization, Storytelling & Experimenting with charts : Understand the relationships between variables***"
      ],
      "metadata": {
        "id": "GF8Ens_Soomf"
      }
    },
    {
      "cell_type": "markdown",
      "source": [
        "#### Chart - 1"
      ],
      "metadata": {
        "id": "0wOQAZs5pc--"
      }
    },
    {
      "cell_type": "code",
      "source": [
        "# Chart - 1 visualization code\n",
        "import matplotlib.pyplot as plt\n",
        "import seaborn as sns\n",
        "\n",
        "# Convert arrival_date_month to categorical with ordered months\n",
        "hotel_data['arrival_date_month'] = pd.Categorical(hotel_data['arrival_date_month'],\n",
        "                                                  categories=['January', 'February', 'March', 'April', 'May', 'June',\n",
        "                                                              'July', 'August', 'September', 'October', 'November', 'December'],\n",
        "                                                  ordered=True)\n",
        "\n",
        "# Group by month and calculate the mean ADR\n",
        "monthly_adr = hotel_data.groupby('arrival_date_month')['adr'].mean().reset_index()\n",
        "\n",
        "# Plotting the mean ADR by month\n",
        "plt.figure(figsize=(12, 6))\n",
        "sns.barplot(x='arrival_date_month', y='adr', data=monthly_adr, palette='viridis')\n",
        "plt.title('Average Daily Rate (ADR) by Month')\n",
        "plt.xlabel('Month')\n",
        "plt.ylabel('Average Daily Rate (ADR)')\n",
        "plt.xticks(rotation=45)\n",
        "plt.show()\n"
      ],
      "metadata": {
        "id": "7v_ESjsspbW7"
      },
      "execution_count": null,
      "outputs": []
    },
    {
      "cell_type": "markdown",
      "source": [
        "##### 1. Why did you pick the specific chart?"
      ],
      "metadata": {
        "id": "K5QZ13OEpz2H"
      }
    },
    {
      "cell_type": "markdown",
      "source": [
        "It shows distribution of ADR throughout the year and makes monthwise comparision easier."
      ],
      "metadata": {
        "id": "XESiWehPqBRc"
      }
    },
    {
      "cell_type": "markdown",
      "source": [
        "##### 2. What is/are the insight(s) found from the chart?"
      ],
      "metadata": {
        "id": "lQ7QKXXCp7Bj"
      }
    },
    {
      "cell_type": "markdown",
      "source": [
        "Best Time of Year to Book a Hotel Room\n",
        "\n",
        "Cheapest Months: January and February have the lowest ADRs\n",
        "Most Expensive Months: August has the highest ADR, followed by July and September."
      ],
      "metadata": {
        "id": "C_j1G7yiqdRP"
      }
    },
    {
      "cell_type": "markdown",
      "source": [
        "##### 3. Will the gained insights help creating a positive business impact?\n",
        "Are there any insights that lead to negative growth? Justify with specific reason."
      ],
      "metadata": {
        "id": "448CDAPjqfQr"
      }
    },
    {
      "cell_type": "markdown",
      "source": [
        "January and February have the lowest ADRs, making them the best months to book a hotel room for a lower rate.So people might advacely book the room and reduce the possibility to increase demand"
      ],
      "metadata": {
        "id": "3cspy4FjqxJW"
      }
    },
    {
      "cell_type": "markdown",
      "source": [
        "#### Chart - 2"
      ],
      "metadata": {
        "id": "KSlN3yHqYklG"
      }
    },
    {
      "cell_type": "code",
      "source": [
        "# Chart - 2 visualization code\n",
        "\n",
        "import matplotlib.pyplot as plt\n",
        "import seaborn as sns\n",
        "\n",
        "hotel_data['total_stays'] = hotel_data['stays_in_weekend_nights'] + hotel_data['stays_in_week_nights']\n",
        "stay_adr = hotel_data.groupby('total_stays')['adr'].mean().reset_index()\n",
        "plt.figure(figsize=(12, 6))\n",
        "sns.lineplot(x='total_stays', y='adr', data=stay_adr, marker='o')\n",
        "plt.title('Average Daily Rate (ADR) by Total Length of Stay')\n",
        "plt.xlabel('Total Length of Stay (Nights)')\n",
        "plt.ylabel('Average Daily Rate (ADR)')\n",
        "plt.xticks(range(0, 20))  # Adjust the range as needed\n",
        "plt.show()"
      ],
      "metadata": {
        "id": "R4YgtaqtYklH"
      },
      "execution_count": null,
      "outputs": []
    },
    {
      "cell_type": "markdown",
      "source": [
        "##### 1. Why did you pick the specific chart?"
      ],
      "metadata": {
        "id": "t6dVpIINYklI"
      }
    },
    {
      "cell_type": "markdown",
      "source": [
        "For daily trend analysis we generally use line chart"
      ],
      "metadata": {
        "id": "5aaW0BYyYklI"
      }
    },
    {
      "cell_type": "markdown",
      "source": [
        "##### 2. What is/are the insight(s) found from the chart?"
      ],
      "metadata": {
        "id": "ijmpgYnKYklI"
      }
    },
    {
      "cell_type": "markdown",
      "source": [
        "Optimal length of stay for best daily rate"
      ],
      "metadata": {
        "id": "PSx9atu2YklI"
      }
    },
    {
      "cell_type": "markdown",
      "source": [
        "##### 3. Will the gained insights help creating a positive business impact?\n",
        "Are there any insights that lead to negative growth? Justify with specific reason."
      ],
      "metadata": {
        "id": "-JiQyfWJYklI"
      }
    },
    {
      "cell_type": "markdown",
      "source": [
        "Optimisation will help in improving business strategy"
      ],
      "metadata": {
        "id": "BcBbebzrYklV"
      }
    },
    {
      "cell_type": "markdown",
      "source": [
        "#### Chart - 3"
      ],
      "metadata": {
        "id": "EM7whBJCYoAo"
      }
    },
    {
      "cell_type": "code",
      "source": [
        "# Chart - 3 visualization code\n",
        "plt.figure(figsize=(10, 6))\n",
        "sns.histplot(hotel_data['lead_time'], kde=True, bins=30, color='blue')\n",
        "plt.title('Distribution of Lead Time')\n",
        "plt.xlabel('Lead Time (days)')\n",
        "plt.ylabel('Frequency')\n",
        "plt.show()\n"
      ],
      "metadata": {
        "id": "t6GMdE67YoAp"
      },
      "execution_count": null,
      "outputs": []
    },
    {
      "cell_type": "markdown",
      "source": [
        "##### 1. Why did you pick the specific chart?"
      ],
      "metadata": {
        "id": "fge-S5ZAYoAp"
      }
    },
    {
      "cell_type": "markdown",
      "source": [
        "As it shows distribution in much relative manner."
      ],
      "metadata": {
        "id": "5dBItgRVYoAp"
      }
    },
    {
      "cell_type": "markdown",
      "source": [
        "##### 2. What is/are the insight(s) found from the chart?"
      ],
      "metadata": {
        "id": "85gYPyotYoAp"
      }
    },
    {
      "cell_type": "markdown",
      "source": [
        "Answer Here"
      ],
      "metadata": {
        "id": "4jstXR6OYoAp"
      }
    },
    {
      "cell_type": "markdown",
      "source": [
        "##### 3. Will the gained insights help creating a positive business impact?\n",
        "Are there any insights that lead to negative growth? Justify with specific reason."
      ],
      "metadata": {
        "id": "RoGjAbkUYoAp"
      }
    },
    {
      "cell_type": "markdown",
      "source": [
        "Answer Here"
      ],
      "metadata": {
        "id": "zfJ8IqMcYoAp"
      }
    },
    {
      "cell_type": "markdown",
      "source": [
        "#### Chart - 4"
      ],
      "metadata": {
        "id": "4Of9eVA-YrdM"
      }
    },
    {
      "cell_type": "code",
      "source": [
        "# Chart - 4 visualization code\n",
        "plt.figure(figsize=(12, 6))\n",
        "sns.countplot(x='arrival_date_month', hue='is_canceled', data=hotel_data, palette='viridis')\n",
        "plt.title('Booking Status by Month')\n",
        "plt.xlabel('Month')\n",
        "plt.ylabel('Number of Bookings')\n",
        "plt.xticks(rotation=45)\n",
        "plt.legend(title='Canceled', loc='upper right', labels=['Not Canceled', 'Canceled'])\n",
        "plt.show()\n",
        "\n"
      ],
      "metadata": {
        "id": "irlUoxc8YrdO"
      },
      "execution_count": null,
      "outputs": []
    },
    {
      "cell_type": "markdown",
      "source": [
        "##### 1. Why did you pick the specific chart?"
      ],
      "metadata": {
        "id": "iky9q4vBYrdO"
      }
    },
    {
      "cell_type": "markdown",
      "source": [
        "Distribution of booking by months and comparision of booking status."
      ],
      "metadata": {
        "id": "aJRCwT6DYrdO"
      }
    },
    {
      "cell_type": "markdown",
      "source": [
        "##### 2. What is/are the insight(s) found from the chart?"
      ],
      "metadata": {
        "id": "F6T5p64dYrdO"
      }
    },
    {
      "cell_type": "markdown",
      "source": [
        "Most of the people vists in the month of August."
      ],
      "metadata": {
        "id": "Xx8WAJvtYrdO"
      }
    },
    {
      "cell_type": "markdown",
      "source": [
        "##### 3. Will the gained insights help creating a positive business impact?\n",
        "Are there any insights that lead to negative growth? Justify with specific reason."
      ],
      "metadata": {
        "id": "y-Ehk30pYrdP"
      }
    },
    {
      "cell_type": "markdown",
      "source": [
        "August is the peak period for increasing business."
      ],
      "metadata": {
        "id": "jLNxxz7MYrdP"
      }
    },
    {
      "cell_type": "markdown",
      "source": [
        "#### Chart - 5"
      ],
      "metadata": {
        "id": "bamQiAODYuh1"
      }
    },
    {
      "cell_type": "code",
      "source": [
        "# Chart - 5 visualization code\n",
        "plt.figure(figsize=(10, 6))\n",
        "sns.countplot(x='total_of_special_requests', data=hotel_data, palette='viridis')\n",
        "plt.title('Distribution of Special Requests')\n",
        "plt.xlabel('Number of Special Requests')\n",
        "plt.ylabel('Frequency')\n",
        "plt.show()\n",
        "\n"
      ],
      "metadata": {
        "id": "TIJwrbroYuh3"
      },
      "execution_count": null,
      "outputs": []
    },
    {
      "cell_type": "markdown",
      "source": [
        "##### 1. Why did you pick the specific chart?"
      ],
      "metadata": {
        "id": "QHF8YVU7Yuh3"
      }
    },
    {
      "cell_type": "markdown",
      "source": [
        "To have count of all categories"
      ],
      "metadata": {
        "id": "dcxuIMRPYuh3"
      }
    },
    {
      "cell_type": "markdown",
      "source": [
        "##### 2. What is/are the insight(s) found from the chart?"
      ],
      "metadata": {
        "id": "GwzvFGzlYuh3"
      }
    },
    {
      "cell_type": "markdown",
      "source": [
        "Answer Here"
      ],
      "metadata": {
        "id": "uyqkiB8YYuh3"
      }
    },
    {
      "cell_type": "markdown",
      "source": [
        "##### 3. Will the gained insights help creating a positive business impact?\n",
        "Are there any insights that lead to negative growth? Justify with specific reason."
      ],
      "metadata": {
        "id": "qYpmQ266Yuh3"
      }
    },
    {
      "cell_type": "markdown",
      "source": [
        "Answer Here"
      ],
      "metadata": {
        "id": "_WtzZ_hCYuh4"
      }
    },
    {
      "cell_type": "markdown",
      "source": [
        "#### Chart - 6"
      ],
      "metadata": {
        "id": "OH-pJp9IphqM"
      }
    },
    {
      "cell_type": "code",
      "source": [
        "# Chart - 6 visualization code\n",
        "plt.figure(figsize=(14, 10))\n",
        "sns.heatmap(hotel_data.corr(), annot=True, cmap='coolwarm', linewidths=0.5)\n",
        "plt.title('Correlation Heatmap')\n",
        "plt.show()\n",
        "\n"
      ],
      "metadata": {
        "id": "kuRf4wtuphqN"
      },
      "execution_count": null,
      "outputs": []
    },
    {
      "cell_type": "markdown",
      "source": [
        "##### 1. Why did you pick the specific chart?"
      ],
      "metadata": {
        "id": "bbFf2-_FphqN"
      }
    },
    {
      "cell_type": "markdown",
      "source": [
        "To set up corelation between all factors."
      ],
      "metadata": {
        "id": "loh7H2nzphqN"
      }
    },
    {
      "cell_type": "markdown",
      "source": [
        "##### 2. What is/are the insight(s) found from the chart?"
      ],
      "metadata": {
        "id": "_ouA3fa0phqN"
      }
    },
    {
      "cell_type": "markdown",
      "source": [
        "Answer Here"
      ],
      "metadata": {
        "id": "VECbqPI7phqN"
      }
    },
    {
      "cell_type": "markdown",
      "source": [
        "##### 3. Will the gained insights help creating a positive business impact?\n",
        "Are there any insights that lead to negative growth? Justify with specific reason."
      ],
      "metadata": {
        "id": "Seke61FWphqN"
      }
    },
    {
      "cell_type": "markdown",
      "source": [
        "Answer Here"
      ],
      "metadata": {
        "id": "DW4_bGpfphqN"
      }
    },
    {
      "cell_type": "markdown",
      "source": [
        "#### Chart - 7"
      ],
      "metadata": {
        "id": "PIIx-8_IphqN"
      }
    },
    {
      "cell_type": "code",
      "source": [
        "# Chart - 7 visualization code\n",
        "plt.figure(figsize=(12, 6))\n",
        "sns.countplot(x='market_segment', data=hotel_data, palette='viridis')\n",
        "plt.title('Booking Distribution by Market Segment')\n",
        "plt.xlabel('Market Segment')\n",
        "plt.ylabel('Number of Bookings')\n",
        "plt.xticks(rotation=45)\n",
        "plt.show()\n"
      ],
      "metadata": {
        "id": "lqAIGUfyphqO"
      },
      "execution_count": null,
      "outputs": []
    },
    {
      "cell_type": "markdown",
      "source": [
        "##### 1. Why did you pick the specific chart?"
      ],
      "metadata": {
        "id": "t27r6nlMphqO"
      }
    },
    {
      "cell_type": "markdown",
      "source": [
        "to categorise them seperately."
      ],
      "metadata": {
        "id": "iv6ro40sphqO"
      }
    },
    {
      "cell_type": "markdown",
      "source": [
        "##### 2. What is/are the insight(s) found from the chart?"
      ],
      "metadata": {
        "id": "r2jJGEOYphqO"
      }
    },
    {
      "cell_type": "markdown",
      "source": [
        "Most of the booking is being done by travel agent through onlne mode."
      ],
      "metadata": {
        "id": "Po6ZPi4hphqO"
      }
    },
    {
      "cell_type": "markdown",
      "source": [
        "##### 3. Will the gained insights help creating a positive business impact?\n",
        "Are there any insights that lead to negative growth? Justify with specific reason."
      ],
      "metadata": {
        "id": "b0JNsNcRphqO"
      }
    },
    {
      "cell_type": "markdown",
      "source": [
        "Travel agent are the important factor of increasing business."
      ],
      "metadata": {
        "id": "xvSq8iUTphqO"
      }
    },
    {
      "cell_type": "markdown",
      "source": [
        "#### Chart - 8"
      ],
      "metadata": {
        "id": "BZR9WyysphqO"
      }
    },
    {
      "cell_type": "code",
      "source": [
        "# Chart - 8 visualization code\n",
        "customer_adr = hotel_data.groupby('customer_type')['adr'].mean().reset_index()\n",
        "plt.figure(figsize=(10, 6))\n",
        "sns.barplot(x='customer_type', y='adr', data=customer_adr, palette='viridis')\n",
        "plt.title('Average Daily Rate (ADR) by Customer Type')\n",
        "plt.xlabel('Customer Type')\n",
        "plt.ylabel('Average Daily Rate (ADR)')\n",
        "plt.show()\n"
      ],
      "metadata": {
        "id": "TdPTWpAVphqO"
      },
      "execution_count": null,
      "outputs": []
    },
    {
      "cell_type": "markdown",
      "source": [
        "##### 1. Why did you pick the specific chart?"
      ],
      "metadata": {
        "id": "jj7wYXLtphqO"
      }
    },
    {
      "cell_type": "markdown",
      "source": [
        "It compares the 4 category"
      ],
      "metadata": {
        "id": "Ob8u6rCTphqO"
      }
    },
    {
      "cell_type": "markdown",
      "source": [
        "##### 2. What is/are the insight(s) found from the chart?"
      ],
      "metadata": {
        "id": "eZrbJ2SmphqO"
      }
    },
    {
      "cell_type": "markdown",
      "source": [
        "Most of the people coming to hotel are travellers"
      ],
      "metadata": {
        "id": "mZtgC_hjphqO"
      }
    },
    {
      "cell_type": "markdown",
      "source": [
        "##### 3. Will the gained insights help creating a positive business impact?\n",
        "Are there any insights that lead to negative growth? Justify with specific reason."
      ],
      "metadata": {
        "id": "rFu4xreNphqO"
      }
    },
    {
      "cell_type": "markdown",
      "source": [
        "all type of customers to be taken care of as there is not much difference in there no."
      ],
      "metadata": {
        "id": "ey_0qi68phqO"
      }
    },
    {
      "cell_type": "markdown",
      "source": [
        "#### Chart - 9"
      ],
      "metadata": {
        "id": "YJ55k-q6phqO"
      }
    },
    {
      "cell_type": "code",
      "source": [
        "# Chart - 9 visualization code\n",
        "deposit_cancel = hotel_data.groupby('deposit_type')['is_canceled'].mean().reset_index()\n",
        "plt.figure(figsize=(10, 6))\n",
        "sns.barplot(x='deposit_type', y='is_canceled', data=deposit_cancel, palette='viridis')\n",
        "plt.title('Cancellation Rate by Deposit Type')\n",
        "plt.xlabel('Deposit Type')\n",
        "plt.ylabel('Cancellation Rate')\n",
        "plt.show()\n"
      ],
      "metadata": {
        "id": "B2aS4O1ophqO"
      },
      "execution_count": null,
      "outputs": []
    },
    {
      "cell_type": "markdown",
      "source": [
        "##### 1. Why did you pick the specific chart?"
      ],
      "metadata": {
        "id": "gCFgpxoyphqP"
      }
    },
    {
      "cell_type": "markdown",
      "source": [
        "it compares the three cases"
      ],
      "metadata": {
        "id": "TVxDimi2phqP"
      }
    },
    {
      "cell_type": "markdown",
      "source": [
        "##### 2. What is/are the insight(s) found from the chart?"
      ],
      "metadata": {
        "id": "OVtJsKN_phqQ"
      }
    },
    {
      "cell_type": "markdown",
      "source": [
        "most of the cancellation is done by non refundable deposits"
      ],
      "metadata": {
        "id": "ngGi97qjphqQ"
      }
    },
    {
      "cell_type": "markdown",
      "source": [
        "##### 3. Will the gained insights help creating a positive business impact?\n",
        "Are there any insights that lead to negative growth? Justify with specific reason."
      ],
      "metadata": {
        "id": "lssrdh5qphqQ"
      }
    },
    {
      "cell_type": "markdown",
      "source": [
        "There is something wrong"
      ],
      "metadata": {
        "id": "tBpY5ekJphqQ"
      }
    },
    {
      "cell_type": "markdown",
      "source": [
        "#### Chart - 10"
      ],
      "metadata": {
        "id": "U2RJ9gkRphqQ"
      }
    },
    {
      "cell_type": "code",
      "source": [
        "# Chart - 10 visualization code\n",
        "plt.figure(figsize=(10, 6))\n",
        "sns.countplot(x='booking_changes', data=hotel_data, palette='viridis')\n",
        "plt.title('Distribution of Booking Changes')\n",
        "plt.xlabel('Number of Booking Changes')\n",
        "plt.ylabel('Frequency')\n",
        "plt.show()\n"
      ],
      "metadata": {
        "id": "GM7a4YP4phqQ"
      },
      "execution_count": null,
      "outputs": []
    },
    {
      "cell_type": "markdown",
      "source": [
        "##### 1. Why did you pick the specific chart?"
      ],
      "metadata": {
        "id": "1M8mcRywphqQ"
      }
    },
    {
      "cell_type": "markdown",
      "source": [
        "It provides count"
      ],
      "metadata": {
        "id": "8agQvks0phqQ"
      }
    },
    {
      "cell_type": "markdown",
      "source": [
        "##### 2. What is/are the insight(s) found from the chart?"
      ],
      "metadata": {
        "id": "tgIPom80phqQ"
      }
    },
    {
      "cell_type": "markdown",
      "source": [
        "Not much"
      ],
      "metadata": {
        "id": "Qp13pnNzphqQ"
      }
    },
    {
      "cell_type": "markdown",
      "source": [
        "##### 3. Will the gained insights help creating a positive business impact?\n",
        "Are there any insights that lead to negative growth? Justify with specific reason."
      ],
      "metadata": {
        "id": "JMzcOPDDphqR"
      }
    },
    {
      "cell_type": "markdown",
      "source": [
        "Its just a representation"
      ],
      "metadata": {
        "id": "R4Ka1PC2phqR"
      }
    },
    {
      "cell_type": "markdown",
      "source": [
        "#### Chart - 11"
      ],
      "metadata": {
        "id": "x-EpHcCOp1ci"
      }
    },
    {
      "cell_type": "code",
      "source": [
        "# Chart - 11 visualization code\n",
        "top_countries = hotel_data['country'].value_counts().head(10).index\n",
        "plt.figure(figsize=(12, 6))\n",
        "sns.countplot(y='country', data=hotel_data[hotel_data['country'].isin(top_countries)], palette='viridis', order=top_countries)\n",
        "plt.title('Top 10 Booking Countries')\n",
        "plt.xlabel('Number of Bookings')\n",
        "plt.ylabel('Country')\n",
        "plt.show()\n"
      ],
      "metadata": {
        "id": "mAQTIvtqp1cj"
      },
      "execution_count": null,
      "outputs": []
    },
    {
      "cell_type": "markdown",
      "source": [
        "##### 1. Why did you pick the specific chart?"
      ],
      "metadata": {
        "id": "X_VqEhTip1ck"
      }
    },
    {
      "cell_type": "markdown",
      "source": [
        "It provide count of data"
      ],
      "metadata": {
        "id": "-vsMzt_np1ck"
      }
    },
    {
      "cell_type": "markdown",
      "source": [
        "##### 2. What is/are the insight(s) found from the chart?"
      ],
      "metadata": {
        "id": "8zGJKyg5p1ck"
      }
    },
    {
      "cell_type": "markdown",
      "source": [
        "Most of the travellers are coming from counttry-PRT"
      ],
      "metadata": {
        "id": "ZYdMsrqVp1ck"
      }
    },
    {
      "cell_type": "markdown",
      "source": [
        "##### 3. Will the gained insights help creating a positive business impact?\n",
        "Are there any insights that lead to negative growth? Justify with specific reason."
      ],
      "metadata": {
        "id": "PVzmfK_Ep1ck"
      }
    },
    {
      "cell_type": "markdown",
      "source": [
        "Hotel Setvices could attract more travellers."
      ],
      "metadata": {
        "id": "druuKYZpp1ck"
      }
    },
    {
      "cell_type": "markdown",
      "source": [
        "#### Chart - 12"
      ],
      "metadata": {
        "id": "n3dbpmDWp1ck"
      }
    },
    {
      "cell_type": "code",
      "source": [
        "# Chart - 12 visualization code\n",
        "plt.figure(figsize=(10, 6))\n",
        "sns.countplot(x='required_car_parking_spaces', data=hotel_data, palette='viridis')\n",
        "plt.title('Parking Space Requirement')\n",
        "plt.xlabel('Number of Required Parking Spaces')\n",
        "plt.ylabel('Frequency')\n",
        "plt.show()\n"
      ],
      "metadata": {
        "id": "bwevp1tKp1ck"
      },
      "execution_count": null,
      "outputs": []
    },
    {
      "cell_type": "markdown",
      "source": [
        "##### 1. Why did you pick the specific chart?"
      ],
      "metadata": {
        "id": "ylSl6qgtp1ck"
      }
    },
    {
      "cell_type": "markdown",
      "source": [
        "It provide count of parking spaces."
      ],
      "metadata": {
        "id": "m2xqNkiQp1ck"
      }
    },
    {
      "cell_type": "markdown",
      "source": [
        "##### 2. What is/are the insight(s) found from the chart?"
      ],
      "metadata": {
        "id": "ZWILFDl5p1ck"
      }
    },
    {
      "cell_type": "markdown",
      "source": [
        "Floating parking space is required"
      ],
      "metadata": {
        "id": "x-lUsV2mp1ck"
      }
    },
    {
      "cell_type": "markdown",
      "source": [
        "##### 3. Will the gained insights help creating a positive business impact?\n",
        "Are there any insights that lead to negative growth? Justify with specific reason."
      ],
      "metadata": {
        "id": "M7G43BXep1ck"
      }
    },
    {
      "cell_type": "markdown",
      "source": [
        "\n",
        "\n",
        "Not much"
      ],
      "metadata": {
        "id": "5wwDJXsLp1cl"
      }
    },
    {
      "cell_type": "markdown",
      "source": [
        "#### Chart - 13"
      ],
      "metadata": {
        "id": "Ag9LCva-p1cl"
      }
    },
    {
      "cell_type": "code",
      "source": [
        "# Chart - 13 visualization code\n",
        "room_adr = hotel_data.groupby('reserved_room_type')['adr'].mean().reset_index()\n",
        "plt.figure(figsize=(12, 6))\n",
        "sns.barplot(x='reserved_room_type', y='adr', data=room_adr, palette='viridis')\n",
        "plt.title('Average Daily Rate (ADR) by Room Type')\n",
        "plt.xlabel('Reserved Room Type')\n",
        "plt.ylabel('Average Daily Rate (ADR)')\n",
        "plt.show()\n"
      ],
      "metadata": {
        "id": "EUfxeq9-p1cl"
      },
      "execution_count": null,
      "outputs": []
    },
    {
      "cell_type": "markdown",
      "source": [
        "##### 1. Why did you pick the specific chart?"
      ],
      "metadata": {
        "id": "E6MkPsBcp1cl"
      }
    },
    {
      "cell_type": "markdown",
      "source": [
        "For comparision it is better"
      ],
      "metadata": {
        "id": "V22bRsFWp1cl"
      }
    },
    {
      "cell_type": "markdown",
      "source": [
        "##### 2. What is/are the insight(s) found from the chart?"
      ],
      "metadata": {
        "id": "2cELzS2fp1cl"
      }
    },
    {
      "cell_type": "markdown",
      "source": [
        "Average Daily Rate for H type of room is more than others"
      ],
      "metadata": {
        "id": "ozQPc2_Ip1cl"
      }
    },
    {
      "cell_type": "markdown",
      "source": [
        "##### 3. Will the gained insights help creating a positive business impact?\n",
        "Are there any insights that lead to negative growth? Justify with specific reason."
      ],
      "metadata": {
        "id": "3MPXvC8up1cl"
      }
    },
    {
      "cell_type": "markdown",
      "source": [
        "H type of rooms are in demand"
      ],
      "metadata": {
        "id": "GL8l1tdLp1cl"
      }
    },
    {
      "cell_type": "markdown",
      "source": [
        "#### Chart - 14 - Correlation Heatmap"
      ],
      "metadata": {
        "id": "NC_X3p0fY2L0"
      }
    },
    {
      "cell_type": "code",
      "source": [
        "# Correlation Heatmap visualization code\n",
        "import matplotlib.pyplot as plt\n",
        "import seaborn as sns\n",
        "\n",
        "# Plot the correlation heatmap\n",
        "plt.figure(figsize=(14, 10))\n",
        "sns.heatmap(hotel_data.corr(), annot=True, cmap='coolwarm', linewidths=0.5)\n",
        "plt.title('Correlation Heatmap')\n",
        "plt.show()\n"
      ],
      "metadata": {
        "id": "xyC9zolEZNRQ"
      },
      "execution_count": null,
      "outputs": []
    },
    {
      "cell_type": "markdown",
      "source": [
        "##### 1. Why did you pick the specific chart?"
      ],
      "metadata": {
        "id": "UV0SzAkaZNRQ"
      }
    },
    {
      "cell_type": "markdown",
      "source": [
        "Answer Here."
      ],
      "metadata": {
        "id": "DVPuT8LYZNRQ"
      }
    },
    {
      "cell_type": "markdown",
      "source": [
        "##### 2. What is/are the insight(s) found from the chart?"
      ],
      "metadata": {
        "id": "YPEH6qLeZNRQ"
      }
    },
    {
      "cell_type": "markdown",
      "source": [
        "Answer Here"
      ],
      "metadata": {
        "id": "bfSqtnDqZNRR"
      }
    },
    {
      "cell_type": "markdown",
      "source": [
        "#### Chart - 15 - Pair Plot"
      ],
      "metadata": {
        "id": "q29F0dvdveiT"
      }
    },
    {
      "cell_type": "code",
      "source": [
        "# Pair Plot visualization code\n",
        "import matplotlib.pyplot as plt\n",
        "import seaborn as sns\n",
        "\n",
        "# Select a subset of columns for clarity\n",
        "subset_columns = ['lead_time', 'adr', 'total_of_special_requests', 'stays_in_weekend_nights',\n",
        "                  'stays_in_week_nights', 'adults', 'children', 'babies', 'is_canceled']\n",
        "\n",
        "# Create a pairplot\n",
        "plt.figure(figsize=(14, 10))\n",
        "sns.pairplot(hotel_data[subset_columns], diag_kind='kde', corner=True)\n",
        "plt.suptitle('Pair Plot of Selected Features', y=1.02)\n",
        "plt.show()\n"
      ],
      "metadata": {
        "id": "o58-TEIhveiU"
      },
      "execution_count": null,
      "outputs": []
    },
    {
      "cell_type": "markdown",
      "source": [
        "##### 1. Why did you pick the specific chart?"
      ],
      "metadata": {
        "id": "EXh0U9oCveiU"
      }
    },
    {
      "cell_type": "markdown",
      "source": [
        "Pair plot could be best analysed in this way."
      ],
      "metadata": {
        "id": "eMmPjTByveiU"
      }
    },
    {
      "cell_type": "markdown",
      "source": [
        "##### 2. What is/are the insight(s) found from the chart?"
      ],
      "metadata": {
        "id": "22aHeOlLveiV"
      }
    },
    {
      "cell_type": "markdown",
      "source": [
        "Answer Here"
      ],
      "metadata": {
        "id": "uPQ8RGwHveiV"
      }
    },
    {
      "cell_type": "markdown",
      "source": [
        "## **5. Solution to Business Objective**"
      ],
      "metadata": {
        "id": "JcMwzZxoAimU"
      }
    },
    {
      "cell_type": "markdown",
      "source": [
        "#### What do you suggest the client to achieve Business Objective ?\n",
        "Peak Booking Periods increases the business but higher cancellation rate of online agents negatively affect the business."
      ],
      "metadata": {
        "id": "8G2x9gOozGDZ"
      }
    },
    {
      "cell_type": "markdown",
      "source": [
        "High booking rates during holidays and summer months, indicating peak travel periods so prices could be increased. Online travel agents have higher cancellation rates compared to direct bookings so some deductions can be imposed."
      ],
      "metadata": {
        "id": "pASKb0qOza21"
      }
    },
    {
      "cell_type": "markdown",
      "source": [
        "# **Conclusion**"
      ],
      "metadata": {
        "id": "gCX9965dhzqZ"
      }
    },
    {
      "cell_type": "markdown",
      "source": [
        "The analysis of the hotel booking dataset provided valuable insights into booking patterns, optimal times for booking, and factors influencing special requests. These findings can help hotels optimize their pricing strategies, enhance customer satisfaction, and improve operational efficiency."
      ],
      "metadata": {
        "id": "Fjb1IsQkh3yE"
      }
    },
    {
      "cell_type": "markdown",
      "source": [
        "### ***Hurrah! You have successfully completed your EDA Capstone Project !!!***"
      ],
      "metadata": {
        "id": "gIfDvo9L0UH2"
      }
    }
  ]
}